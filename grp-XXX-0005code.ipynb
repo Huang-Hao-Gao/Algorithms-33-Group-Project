{
 "cells": [
  {
   "cell_type": "markdown",
   "metadata": {},
   "source": [
    "# COMP0005 - GROUP COURSEWORK\n",
    "# Experimental Evaluation of Search Data Structures and Algorithms"
   ]
  },
  {
   "cell_type": "markdown",
   "metadata": {},
   "source": [
    "The cell below defines **AbstractSearchInterface**, an interface to support basic insert/search operations; you will need to implement this three times, to realise your three search data structures of choice among: (1) *2-3 Tree*, (2) *AVL Tree*, (3) *LLRB BST*; (4) *B-Tree*; and (5) *Scapegoat Tree*. <br><br>**Do NOT modify the next cell** - use the dedicated cells further below for your implementation instead. <br>"
   ]
  },
  {
   "cell_type": "code",
   "execution_count": 16,
   "metadata": {},
   "outputs": [],
   "source": [
    "# DO NOT MODIFY THIS CELL\n",
    "\n",
    "from abc import ABC, abstractmethod  \n",
    "\n",
    "class AbstractSearchInterface(ABC):\n",
    "    '''\n",
    "    Abstract class to support search/insert operations (plus underlying data structure)\n",
    "    \n",
    "    '''\n",
    "        \n",
    "    @abstractmethod\n",
    "    def insertElement(self, element):     \n",
    "        '''\n",
    "        Insert an element in a search tree\n",
    "            Parameters:\n",
    "                    element: string to be inserted in the search tree (string)\n",
    "\n",
    "            Returns:\n",
    "                    \"True\" after successful insertion, \"False\" if element is already present (bool)\n",
    "        '''\n",
    "        \n",
    "        pass \n",
    "    \n",
    "\n",
    "    @abstractmethod\n",
    "    def searchElement(self, element):\n",
    "        '''\n",
    "        Search for an element in a search tree\n",
    "            Parameters:\n",
    "                    element: string to be searched in the search tree (string)\n",
    "\n",
    "            Returns:\n",
    "                    \"True\" if element is found, \"False\" otherwise (bool)\n",
    "        '''\n",
    "\n",
    "        pass"
   ]
  },
  {
   "cell_type": "markdown",
   "metadata": {},
   "source": [
    "Use the cell below to define any auxiliary data structure and python function you may need. Leave the implementation of the main API to the next code cells instead."
   ]
  },
  {
   "cell_type": "code",
   "execution_count": 17,
   "metadata": {},
   "outputs": [],
   "source": [
    "# ADD AUXILIARY DATA STRUCTURE DEFINITIONS AND HELPER CODE HERE\n",
    "\n",
    "class LLRBNode:\n",
    "    \n",
    "    def __init__(self, key, is_red=True):\n",
    "            self.key = key\n",
    "            self.is_red = is_red\n",
    "            self.left = None\n",
    "            self.right = None"
   ]
  },
  {
   "cell_type": "markdown",
   "metadata": {},
   "source": [
    "Use the cell below to implement the requested API by means of **2-3 Tree** (if among your chosen data structure)."
   ]
  },
  {
   "cell_type": "code",
   "execution_count": 18,
   "metadata": {},
   "outputs": [],
   "source": [
    "class TwoThreeTree(AbstractSearchInterface):\n",
    "        \n",
    "    def insertElement(self, element):\n",
    "        inserted = False\n",
    "        # ADD YOUR CODE HERE\n",
    "      \n",
    "        \n",
    "        return inserted\n",
    "    \n",
    "    \n",
    "\n",
    "    def searchElement(self, element):     \n",
    "        found = False\n",
    "        # ADD YOUR CODE HERE\n",
    "\n",
    "        \n",
    "        return found    "
   ]
  },
  {
   "cell_type": "markdown",
   "metadata": {},
   "source": [
    "Use the cell below to implement the requested API by means of **AVL Tree** (if among your chosen data structure)."
   ]
  },
  {
   "cell_type": "code",
   "execution_count": 19,
   "metadata": {},
   "outputs": [],
   "source": [
    "class AVLTree(AbstractSearchInterface):\n",
    "        \n",
    "    def insertElement(self, element):\n",
    "        inserted = False\n",
    "        # ADD YOUR CODE HERE\n",
    "      \n",
    "        \n",
    "        return inserted\n",
    "    \n",
    "    \n",
    "\n",
    "    def searchElement(self, element):     \n",
    "        found = False\n",
    "        # ADD YOUR CODE HERE\n",
    "\n",
    "        \n",
    "        return found  "
   ]
  },
  {
   "cell_type": "markdown",
   "metadata": {},
   "source": [
    "Use the cell below to implement the requested API by means of **LLRB BST** (if among your chosen data structure)."
   ]
  },
  {
   "cell_type": "code",
   "execution_count": 20,
   "metadata": {},
   "outputs": [
    {
     "name": "stdout",
     "output_type": "stream",
     "text": [
      "hello\n"
     ]
    }
   ],
   "source": [
    "\n",
    "\n",
    "class LLRBBST(AbstractSearchInterface):\n",
    "        \n",
    "    def __init__(self):\n",
    "        self.root = None\n",
    "        \n",
    "    \n",
    "    def _is_red(self, n):\n",
    "        if not n:\n",
    "            return False\n",
    "        return n.is_red\n",
    "    \n",
    "    \n",
    "    def _rotate_left(self, n):\n",
    "        x = n.right\n",
    "        n.right = x.left\n",
    "        x.left = n\n",
    "        x.is_red = n.is_red\n",
    "        n.is_red = True\n",
    "        return x\n",
    "    \n",
    "    \n",
    "    def _rotate_right(self, n):\n",
    "        x = n.left\n",
    "        n.left = x.right\n",
    "        x.right = n\n",
    "        x.is_red = n.is_red\n",
    "        n.is_red = True\n",
    "        return x\n",
    "        \n",
    "        \n",
    "    def _flip_colours(self, n):\n",
    "        n.is_red = not n.is_red\n",
    "        if n.left:\n",
    "            n.left.is_red = not n.left.is_red\n",
    "        if n.right:\n",
    "            n.right.is_red = not n.right.is_red\n",
    "        \n",
    "        \n",
    "    def insertHelper(self, n, element):\n",
    "        if n is None:\n",
    "            return LLRBNode(element), True\n",
    "        \n",
    "        inserted = False\n",
    "        \n",
    "        if element == n.key:\n",
    "            return n, False\n",
    "        elif element < n.key:\n",
    "            n.left, inserted = self.insertHelper(n.left, element)\n",
    "        else:\n",
    "            n.right, inserted = self.insertHelper(n.right, element)\n",
    "            \n",
    "            \n",
    "        if self._is_red(n.right) and not self._is_red(n.left):\n",
    "            n = self._rotate_left(n)\n",
    "        if self._is_red(n.left) and self._is_red(n.left.left):\n",
    "            n = self._rotate_right(n)\n",
    "        if self._is_red(n.left) and self._is_red(n.right):\n",
    "            n = self._flip_colours(n)\n",
    "            \n",
    "        return n, inserted\n",
    "        \n",
    "    def insertElement(self, element):\n",
    "        self.root, inserted = self.insertHelper(self.root, element)\n",
    "        if self.root:\n",
    "            self.root.is_red = False\n",
    "        return inserted\n",
    "\n",
    "\n",
    "    def searchElement(self, element):     \n",
    "        found = False\n",
    "        # ADD YOUR CODE HERE\n",
    "        '''\n",
    "        Search for an element in a search tree\n",
    "            Parameters:\n",
    "                    element: string to be searched in the search tree (string)\n",
    "\n",
    "            Returns:\n",
    "                    \"True\" if element is found, \"False\" otherwise (bool)\n",
    "        '''\n",
    "\n",
    "        \n",
    "        return found  \n",
    "    \n",
    "    \n",
    "if __name__ == \"__main__\":\n",
    "    tree = LLRBBST()\n",
    "    tree.insertElement(\"hello\")\n",
    "    tree.insertElement(\"helloo\")\n",
    "    print(tree.root.left.key)"
   ]
  },
  {
   "cell_type": "markdown",
   "metadata": {},
   "source": [
    "Use the cell below to implement the requested API by means of **B-Tree** (if among your chosen data structure)."
   ]
  },
  {
   "cell_type": "code",
   "execution_count": 21,
   "metadata": {},
   "outputs": [],
   "source": [
    "class BTree(AbstractSearchInterface):\n",
    "        \n",
    "    def insertElement(self, element):\n",
    "        inserted = False\n",
    "        # ADD YOUR CODE HERE\n",
    "      \n",
    "        \n",
    "        return inserted\n",
    "    \n",
    "    \n",
    "\n",
    "    def searchElement(self, element):     \n",
    "        found = False\n",
    "        # ADD YOUR CODE HERE\n",
    "\n",
    "        \n",
    "        return found"
   ]
  },
  {
   "cell_type": "markdown",
   "metadata": {},
   "source": [
    "Use the cell below to implement the requested API by means of **Scapegoat Tree** (if among your chosen data structure)."
   ]
  },
  {
   "cell_type": "code",
   "execution_count": 22,
   "metadata": {},
   "outputs": [],
   "source": [
    "class ScapegoatTree(AbstractSearchInterface):\n",
    "        \n",
    "    def insertElement(self, element):\n",
    "        inserted = False\n",
    "        # ADD YOUR CODE HERE\n",
    "      \n",
    "        \n",
    "        return inserted\n",
    "    \n",
    "    \n",
    "\n",
    "    def searchElement(self, element):     \n",
    "        found = False\n",
    "        # ADD YOUR CODE HERE\n",
    "\n",
    "        \n",
    "        return found "
   ]
  },
  {
   "cell_type": "markdown",
   "metadata": {},
   "source": [
    "Use the cell below to implement the **synthetic data generator** needed by your experimental framework (be mindful of code readability and reusability)."
   ]
  },
  {
   "cell_type": "code",
   "execution_count": null,
   "metadata": {},
   "outputs": [
    {
     "name": "stdout",
     "output_type": "stream",
     "text": [
      "\n"
     ]
    }
   ],
   "source": [
    "import string\n",
    "import random\n",
    "\n",
    "class TestDataGenerator():\n",
    "    \n",
    "    def __init__(self, num_samples=1000):\n",
    "        self.num_samples = num_samples\n",
    "        self.letters = string.ascii_letters\n",
    "        self.lowercase = string.ascii_lowercase\n",
    "\n",
    "    #generates random strings of fixed length, can be uppercase or lowercase\n",
    "    def gen_rand(self, strlen):\n",
    "        result = []\n",
    "        for _ in range(self.num_samples):\n",
    "            result.append(''.join(random.choices(self.letters, k=strlen)))\n",
    "        return result\n",
    "    \n",
    "    # [aaa, aab, aac, aad, aae, aaf..... aba, abb, abc, abd]\n",
    "    def gen_sorted(self, strlen, reversed=False):\n",
    "        if len(self.letters)**strlen < self.num_samples:\n",
    "            print(\"Not enough combinations. Use a larger string length\")\n",
    "            return\n",
    "        \n",
    "        \n",
    "        characters = self.lowercase if not reversed else self.lowercase[::-1]\n",
    "        \n",
    "        def generate_combinations(prefix, length):\n",
    "            if length == 0:\n",
    "                result.append(prefix)\n",
    "                return\n",
    "            for char in characters:\n",
    "                if len(result) >= self.num_samples:\n",
    "                    return\n",
    "                generate_combinations(prefix + char, length - 1)\n",
    "        \n",
    "        result = []\n",
    "        generate_combinations('', strlen)\n",
    "        return result\n",
    "            \n",
    "    \n",
    "    def gen_high_dup(self):\n",
    "        pass\n",
    "    \n",
    "    def gen_rand_len(self):\n",
    "        pass\n",
    "    \n",
    "    def gen_increasing_len(self):\n",
    "        pass\n",
    "    \n",
    "    def gen_huge_len(self):\n",
    "        pass\n",
    "    \n",
    "test_code = TestDataGenerator(100)\n",
    "print(test_code.gen_sorted(5, True))"
   ]
  },
  {
   "cell_type": "markdown",
   "metadata": {},
   "source": [
    "Use the cell below to implement the requested **experimental framework** (be mindful of code readability and reusability)."
   ]
  },
  {
   "cell_type": "code",
   "execution_count": 24,
   "metadata": {},
   "outputs": [],
   "source": [
    "import timeit, random, string\n",
    "import matplotlib.pyplot as plt\n",
    "\n",
    "class ExperimentalFramework():\n",
    "    '''\n",
    "    A class to represent an experimental framework.\n",
    "\n",
    "    Attributes\n",
    "    ----------\n",
    "    results : dict\n",
    "        A dictionary to store timing results. Each key could be the data size or a label,\n",
    "        and each value is the timing measurement.\n",
    "\n",
    "    Methods\n",
    "    -------\n",
    "    run_experiment(data_structure, data)\n",
    "        Measures insertion and/or search time on a given data structure with given data.\n",
    "    plot_results()\n",
    "        Visualizes the results with matplotlib.\n",
    "    '''\n",
    "            \n",
    "    def __init__(self):\n",
    "        # You can store your collected timing results here.\n",
    "        self.results = {}\n",
    "\n",
    "    def run_experiment(self, data_structure, data, label=\"Experiment1\"):\n",
    "       pass\n",
    "\n",
    "    def plot_results(self):\n",
    "        pass\n",
    "    "
   ]
  },
  {
   "cell_type": "markdown",
   "metadata": {},
   "source": [
    "Use the cell below to illustrate the python code you used to **fully evaluate** your three chosen search data structures and algortihms. The code below should illustrate, for example, how you made used of the **TestDataGenerator** class to generate test data of various size and properties; how you instatiated the **ExperimentalFramework** class to  evaluate each data structure using such data, collect information about their execution time, plot results, etc. Any results you illustrate in the companion PDF report should have been generated using the code below."
   ]
  },
  {
   "cell_type": "code",
   "execution_count": 25,
   "metadata": {},
   "outputs": [],
   "source": [
    "# ADD YOUR TEST CODE HERE \n",
    "\n",
    "\n",
    "\n"
   ]
  }
 ],
 "metadata": {
  "kernelspec": {
   "display_name": "Python 3",
   "language": "python",
   "name": "python3"
  },
  "language_info": {
   "codemirror_mode": {
    "name": "ipython",
    "version": 3
   },
   "file_extension": ".py",
   "mimetype": "text/x-python",
   "name": "python",
   "nbconvert_exporter": "python",
   "pygments_lexer": "ipython3",
   "version": "3.13.0"
  }
 },
 "nbformat": 4,
 "nbformat_minor": 4
}

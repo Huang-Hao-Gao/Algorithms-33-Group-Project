{
 "cells": [
  {
   "cell_type": "markdown",
   "metadata": {},
   "source": [
    "# COMP0005 - GROUP COURSEWORK\n",
    "# Experimental Evaluation of Search Data Structures and Algorithms"
   ]
  },
  {
   "cell_type": "markdown",
   "metadata": {},
   "source": [
    "The cell below defines **AbstractSearchInterface**, an interface to support basic insert/search operations; you will need to implement this three times, to realise your three search data structures of choice among: (1) *2-3 Tree*, (2) *AVL Tree*, (3) *LLRB BST*; (4) *B-Tree*; and (5) *Scapegoat Tree*. <br><br>**Do NOT modify the next cell** - use the dedicated cells further below for your implementation instead. <br>"
   ]
  },
  {
   "cell_type": "code",
   "execution_count": 16,
   "metadata": {},
   "outputs": [],
   "source": [
    "# DO NOT MODIFY THIS CELL\n",
    "\n",
    "from abc import ABC, abstractmethod  \n",
    "\n",
    "class AbstractSearchInterface(ABC):\n",
    "    '''\n",
    "    Abstract class to support search/insert operations (plus underlying data structure)\n",
    "    \n",
    "    '''\n",
    "        \n",
    "    @abstractmethod\n",
    "    def insertElement(self, element):     \n",
    "        '''\n",
    "        Insert an element in a search tree\n",
    "            Parameters:\n",
    "                    element: string to be inserted in the search tree (string)\n",
    "\n",
    "            Returns:\n",
    "                    \"True\" after successful insertion, \"False\" if element is already present (bool)\n",
    "        '''\n",
    "        \n",
    "        pass \n",
    "    \n",
    "\n",
    "    @abstractmethod\n",
    "    def searchElement(self, element):\n",
    "        '''\n",
    "        Search for an element in a search tree\n",
    "            Parameters:\n",
    "                    element: string to be searched in the search tree (string)\n",
    "\n",
    "            Returns:\n",
    "                    \"True\" if element is found, \"False\" otherwise (bool)\n",
    "        '''\n",
    "\n",
    "        pass"
   ]
  },
  {
   "cell_type": "markdown",
   "metadata": {},
   "source": [
    "Use the cell below to define any auxiliary data structure and python function you may need. Leave the implementation of the main API to the next code cells instead."
   ]
  },
  {
   "cell_type": "code",
   "execution_count": 17,
   "metadata": {},
   "outputs": [],
   "source": [
    "# ADD AUXILIARY DATA STRUCTURE DEFINITIONS AND HELPER CODE HERE\n",
    "\n",
    "class LLRBNode:\n",
    "    \n",
    "    def __init__(self, key, is_red=True):\n",
    "            self.key = key\n",
    "            self.is_red = is_red\n",
    "            self.left = None\n",
    "            self.right = None"
   ]
  },
  {
   "cell_type": "markdown",
   "metadata": {},
   "source": [
    "Use the cell below to implement the requested API by means of **2-3 Tree** (if among your chosen data structure)."
   ]
  },
  {
   "cell_type": "code",
   "execution_count": 18,
   "metadata": {},
   "outputs": [],
   "source": [
    "class TwoThreeTree(AbstractSearchInterface):\n",
    "        \n",
    "    def insertElement(self, element):\n",
    "        inserted = False\n",
    "        # ADD YOUR CODE HERE\n",
    "      \n",
    "        \n",
    "        return inserted\n",
    "    \n",
    "    \n",
    "\n",
    "    def searchElement(self, element):     \n",
    "        found = False\n",
    "        # ADD YOUR CODE HERE\n",
    "\n",
    "        \n",
    "        return found    "
   ]
  },
  {
   "cell_type": "markdown",
   "metadata": {},
   "source": [
    "Use the cell below to implement the requested API by means of **AVL Tree** (if among your chosen data structure)."
   ]
  },
  {
   "cell_type": "code",
   "execution_count": 19,
   "metadata": {},
   "outputs": [],
   "source": [
    "class AVLTree(AbstractSearchInterface):\n",
    "        \n",
    "    def insertElement(self, element):\n",
    "        inserted = False\n",
    "        # ADD YOUR CODE HERE\n",
    "      \n",
    "        \n",
    "        return inserted\n",
    "    \n",
    "    \n",
    "\n",
    "    def searchElement(self, element):     \n",
    "        found = False\n",
    "        # ADD YOUR CODE HERE\n",
    "\n",
    "        \n",
    "        return found  "
   ]
  },
  {
   "cell_type": "markdown",
   "metadata": {},
   "source": [
    "Use the cell below to implement the requested API by means of **LLRB BST** (if among your chosen data structure)."
   ]
  },
  {
   "cell_type": "code",
   "execution_count": 20,
   "metadata": {},
   "outputs": [
    {
     "name": "stdout",
     "output_type": "stream",
     "text": [
      "hello\n"
     ]
    }
   ],
   "source": [
    "\n",
    "\n",
    "class LLRBBST(AbstractSearchInterface):\n",
    "        \n",
    "    def __init__(self):\n",
    "        self.root = None\n",
    "        \n",
    "    \n",
    "    def _is_red(self, n):\n",
    "        if not n:\n",
    "            return False\n",
    "        return n.is_red\n",
    "    \n",
    "    \n",
    "    def _rotate_left(self, n):\n",
    "        x = n.right\n",
    "        n.right = x.left\n",
    "        x.left = n\n",
    "        x.is_red = n.is_red\n",
    "        n.is_red = True\n",
    "        return x\n",
    "    \n",
    "    \n",
    "    def _rotate_right(self, n):\n",
    "        x = n.left\n",
    "        n.left = x.right\n",
    "        x.right = n\n",
    "        x.is_red = n.is_red\n",
    "        n.is_red = True\n",
    "        return x\n",
    "        \n",
    "        \n",
    "    def _flip_colours(self, n):\n",
    "        n.is_red = not n.is_red\n",
    "        if n.left:\n",
    "            n.left.is_red = not n.left.is_red\n",
    "        if n.right:\n",
    "            n.right.is_red = not n.right.is_red\n",
    "        \n",
    "        \n",
    "    def insertHelper(self, n, element):\n",
    "        if n is None:\n",
    "            return LLRBNode(element), True\n",
    "        \n",
    "        inserted = False\n",
    "        \n",
    "        if element == n.key:\n",
    "            return n, False\n",
    "        elif element < n.key:\n",
    "            n.left, inserted = self.insertHelper(n.left, element)\n",
    "        else:\n",
    "            n.right, inserted = self.insertHelper(n.right, element)\n",
    "            \n",
    "            \n",
    "        if self._is_red(n.right) and not self._is_red(n.left):\n",
    "            n = self._rotate_left(n)\n",
    "        if self._is_red(n.left) and self._is_red(n.left.left):\n",
    "            n = self._rotate_right(n)\n",
    "        if self._is_red(n.left) and self._is_red(n.right):\n",
    "            n = self._flip_colours(n)\n",
    "            \n",
    "        return n, inserted\n",
    "        \n",
    "    def insertElement(self, element):\n",
    "        self.root, inserted = self.insertHelper(self.root, element)\n",
    "        if self.root:\n",
    "            self.root.is_red = False\n",
    "        return inserted\n",
    "\n",
    "\n",
    "    def searchElement(self, element):     \n",
    "        found = False\n",
    "        # ADD YOUR CODE HERE\n",
    "        '''\n",
    "        Search for an element in a search tree\n",
    "            Parameters:\n",
    "                    element: string to be searched in the search tree (string)\n",
    "\n",
    "            Returns:\n",
    "                    \"True\" if element is found, \"False\" otherwise (bool)\n",
    "        '''\n",
    "\n",
    "        \n",
    "        return found  \n",
    "    \n",
    "    \n",
    "if __name__ == \"__main__\":\n",
    "    tree = LLRBBST()\n",
    "    tree.insertElement(\"hello\")\n",
    "    tree.insertElement(\"helloo\")\n",
    "    print(tree.root.left.key)"
   ]
  },
  {
   "cell_type": "markdown",
   "metadata": {},
   "source": [
    "Use the cell below to implement the requested API by means of **B-Tree** (if among your chosen data structure)."
   ]
  },
  {
   "cell_type": "code",
   "execution_count": 21,
   "metadata": {},
   "outputs": [],
   "source": [
    "class BTree(AbstractSearchInterface):\n",
    "        \n",
    "    def insertElement(self, element):\n",
    "        inserted = False\n",
    "        # ADD YOUR CODE HERE\n",
    "      \n",
    "        \n",
    "        return inserted\n",
    "    \n",
    "    \n",
    "\n",
    "    def searchElement(self, element):     \n",
    "        found = False\n",
    "        # ADD YOUR CODE HERE\n",
    "\n",
    "        \n",
    "        return found"
   ]
  },
  {
   "cell_type": "markdown",
   "metadata": {},
   "source": [
    "Use the cell below to implement the requested API by means of **Scapegoat Tree** (if among your chosen data structure)."
   ]
  },
  {
   "cell_type": "code",
   "execution_count": 22,
   "metadata": {},
   "outputs": [],
   "source": [
    "class ScapegoatTree(AbstractSearchInterface):\n",
    "        \n",
    "    def insertElement(self, element):\n",
    "        inserted = False\n",
    "        # ADD YOUR CODE HERE\n",
    "      \n",
    "        \n",
    "        return inserted\n",
    "    \n",
    "    \n",
    "\n",
    "    def searchElement(self, element):     \n",
    "        found = False\n",
    "        # ADD YOUR CODE HERE\n",
    "\n",
    "        \n",
    "        return found "
   ]
  },
  {
   "cell_type": "markdown",
   "metadata": {},
   "source": [
    "Use the cell below to implement the **synthetic data generator** needed by your experimental framework (be mindful of code readability and reusability)."
   ]
  },
  {
   "cell_type": "code",
   "execution_count": null,
   "metadata": {},
   "outputs": [
    {
     "name": "stdout",
     "output_type": "stream",
     "text": [
      "['Gkk', 'Rri', 'ksu', 'jWF', 'jVY', 'GqJ', 'fdT', 'FZV', 'NpE', 'JjZ', 'CET', 'ppx', 'XLb', 'xES', 'htc', 'oSm', 'JMw', 'tZi', 'yxo', 'fHX', 'paD', 'VHq', 'ksg', 'UYJ', 'lfF', 'LBn', 'dUP', 'bjS', 'kbJ', 'uqD', 'HqP', 'BhZ', 'eBM', 'NhA', 'Qxz', 'GWo', 'Gge', 'kDb', 'Qla', 'Hud', 'tud', 'LEi', 'vmo', 'OPs', 'YRl', 'rRo', 'kaY', 'CGQ', 'exM', 'YZj', 'Nrf', 'hOU', 'goJ', 'bbT', 'bRX', 'ABA', 'qaT', 'Rcs', 'jFL', 'Bso', 'HEg', 'NkW', 'bcw', 'jBF', 'Jxf', 'atc', 'SyJ', 'sUG', 'xnq', 'Pka', 'CSu', 'Udz', 'rAX', 'pHy', 'Vfc', 'yAw', 'hLM', 'wNR', 'pim', 'ccq', 'Ruv', 'kbU', 'fbX', 'bRV', 'Xuf', 'sfV', 'fyM', 'Qkk', 'Qkr', 'Tvi', 'iBr', 'wIj', 'RLw', 'goI', 'SKd', 'Pgt', 'qgc', 'vhn', 'xhh', 'gzj', 'ZlX', 'DiL', 'Cfa', 'vJm', 'RVM', 'rwf', 'UFV', 'XWI', 'vWo', 'hia', 'knY', 'PFL', 'XFo', 'OkN', 'xAY', 'CoM', 'JWz', 'eUI', 'oPA', 'ohU', 'dcA', 'GhL', 'OyW', 'mTI', 'KpN', 'gdN', 'dkt', 'Mlp', 'kQI', 'QRi', 'Moo', 'WyQ', 'XsE', 'mWR', 'vzy', 'oaR', 'iTJ', 'sfv', 'uOb', 'QLU', 'vKo', 'UsD', 'HLl', 'XAg', 'jar', 'OVA', 'fND', 'akZ', 'xdS', 'JPd', 'HGr', 'hvv', 'Enj', 'jUd', 'nYN', 'Bev', 'xdW', 'zUs', 'etV', 'DWJ', 'QEr', 'FGp', 'vKl', 'ONA', 'DgJ', 'cfV', 'KCb', 'ztP', 'Ppu', 'FKB', 'quL', 'Pqj', 'EzV', 'aZC', 'JSa', 'kIr', 'Vbl', 'nMZ', 'BWY', 'xuy', 'Kjr', 'wWC', 'efD', 'OCz', 'VHf', 'FNs', 'CQj', 'TqA', 'BcP', 'Mgy', 'SKG', 'FUO', 'GPV', 'Egc', 'Put', 'yOB', 'wmU', 'XcE', 'qad', 'TwX', 'Lxu', 'WrB', 'vkp', 'KcY', 'YeR', 'MvK', 'Tnz', 'kzk', 'Ydk', 'vln', 'bBn', 'jKr', 'nPA', 'dvC', 'SmW', 'HhH', 'KKN', 'oRL', 'CUs', 'qth', 'Sor', 'GRA', 'dbD', 'sQP', 'nNR', 'clo', 'HHL', 'uFc', 'Szb', 'sek', 'oMR', 'WBc', 'arO', 'lTA', 'cuR', 'FUf', 'qDu', 'ais', 'tDl', 'bcP', 'rfB', 'gda', 'tKB', 'OMr', 'kjZ', 'qvE', 'DnK', 'oJk', 'LdF', 'oGr', 'hoy', 'EaE', 'keU', 'lYA', 'bDd', 'arY', 'MGU', 'Hoe', 'ZHy', 'oTr', 'niF', 'uJC', 'CQL', 'bwM', 'ZgC', 'VSN', 'UXh', 'FmT', 'QVV', 'PHp', 'KhF', 'Eyf', 'xsK', 'DPK', 'gFE', 'NNX', 'gkG', 'kTY', 'dne', 'tdL', 'wWJ', 'GCG', 'byi', 'pEJ', 'CWY', 'efe', 'Igp', 'nFS', 'kUs', 'HVW', 'fwi', 'wAT', 'KAa', 'WeN', 'ZuI', 'Wav', 'xHJ', 'Dqe', 'sGG', 'SOG', 'MzG', 'obH', 'jHj', 'odE', 'qMJ', 'eyL', 'WWC', 'UHA', 'HVb', 'ktY', 'Spy', 'kTW', 'wgV', 'YVj', 'cIq', 'VOF', 'hYI', 'IGd', 'sMB', 'YgQ', 'Rtj', 'eHo', 'NBz', 'iiD', 'WEQ', 'cZP', 'rhc', 'tNQ', 'bwV', 'qCa', 'WMX', 'vyW', 'ejI', 'rRJ', 'nhk', 'Vwq', 'uTO', 'Yju', 'lKn', 'iHW', 'iYS', 'kUO', 'IRc', 'Mcm', 'PXc', 'tCE', 'CoD', 'FYz', 'oQS', 'DXo', 'SqH', 'MbM', 'CNQ', 'ylG', 'LCO', 'fhM', 'fcr', 'pUp', 'NdI', 'Zvp', 'LBY', 'iYQ', 'TzH', 'DQx', 'Sso', 'zmM', 'KSp', 'Rvp', 'lzN', 'XrH', 'aYC', 'hiw', 'BVX', 'tWe', 'WtX', 'XpB', 'PtE', 'NLx', 'HyF', 'fVH', 'Qtg', 'bRI', 'AQH', 'tFb', 'eOO', 'zXe', 'yuq', 'Itz', 'ScK', 'QWp', 'RER', 'clD', 'kDA', 'AoJ', 'SVA', 'sjq', 'fXt', 'NCH', 'goF', 'UdG', 'Nyo', 'JaJ', 'xJi', 'RtY', 'Vqd', 'kWJ', 'Bzd', 'NcL', 'tba', 'jQO', 'RGA', 'mTo', 'OKr', 'Wth', 'ZuW', 'pfI', 'lQm', 'TPi', 'Sye', 'Wdb', 'eDc', 'YzN', 'cbd', 'Slk', 'cJR', 'tIO', 'hbj', 'RME', 'lFA', 'Nrh', 'eGw', 'lIC', 'cau', 'NkP', 'San', 'VhD', 'Uxs', 'nvM', 'NTu', 'UCn', 'YYI', 'sKG', 'jUv', 'jHt', 'hhE', 'SxR', 'HPZ', 'hTT', 'zoa', 'ikC', 'ggo', 'ycO', 'Rlr', 'agS', 'ahA', 'PWe', 'eax', 'uaF', 'Vfa', 'tKd', 'Zqx', 'IiD', 'GQT', 'HSY', 'uQD', 'sez', 'NwI', 'ytN', 'vnO', 'Zbz', 'nDn', 'TlV', 'yjk', 'dim', 'tWf', 'dlN', 'DdT', 'WEs', 'lBh', 'sso', 'ORG', 'ulV', 'Qeh', 'hhl', 'gGU', 'fIl', 'gxm', 'JHN', 'NOK', 'qCw', 'RLo', 'JFn', 'jVP', 'WTR', 'StW', 'GJi', 'tSW', 'TYX', 'GOR', 'nrA', 'bYu', 'Jna', 'RuA', 'fht', 'dLY', 'dbv', 'NpS', 'HgT', 'HnH', 'GXX', 'fWb', 'EbI', 'PUB', 'Etl', 'QQF', 'pxK', 'YaX', 'Gwc', 'qph', 'UBW', 'ZPP', 'Dsy', 'IQm', 'gGd', 'OQy', 'jGu', 'sIO', 'Hoz', 'iPZ', 'kEn', 'LSf', 'MPO', 'orQ', 'wxD', 'Mwx', 'HRz', 'meW', 'BIp', 'QKS', 'rVO', 'HSm', 'YSv', 'sbn', 'ElX', 'vvR', 'eDR', 'fwU', 'EBq', 'uKm', 'YmA', 'JcW', 'Kgr', 'alk', 'FaL', 'zPM', 'hSH', 'gjP', 'YLZ', 'rSD', 'LtH', 'zoD', 'tDx', 'zDL', 'BNP', 'TPZ', 'QcV', 'QdE', 'Quc', 'yha', 'lly', 'iAO', 'RYb', 'tFg', 'GOp', 'nQb', 'ZRr', 'sSz', 'nFj', 'RZC', 'qoN', 'dmO', 'tGD', 'wjt', 'SSt', 'aUv', 'kmf', 'zcQ', 'sAv', 'kYP', 'MqV', 'nMF', 'Uqe', 'IpN', 'HFq', 'Lit', 'zOT', 'IMe', 'DZs', 'YSi', 'agd', 'Omw', 'efg', 'AOz', 'pWN', 'vTe', 'rgL', 'Sts', 'Yya', 'OLz', 'zQm', 'nhj', 'Lhm', 'Dnw', 'jiG', 'dmt', 'Akr', 'Pph', 'hdI', 'OKr', 'Rib', 'OUv', 'EjS', 'TlE', 'Ddg', 'avF', 'gSI', 'yeA', 'tZH', 'yVh', 'hiX', 'XBm', 'unF', 'lxl', 'sAu', 'rUZ', 'uSg', 'LKL', 'MPg', 'bIX', 'ilN', 'tZq', 'hRm', 'djB', 'khn', 'ryi', 'MnE', 'XAx', 'BKa', 'zea', 'AXd', 'ugE', 'hvh', 'ypj', 'YWk', 'ogH', 'Eea', 'ywi', 'pZx', 'AnT', 'lsE', 'IlI', 'haZ', 'LMB', 'gRM', 'pJF', 'qSC', 'UfF', 'wJs', 'eSX', 'lpT', 'ysw', 'GAs', 'ksr', 'ilc', 'Taf', 'uBX', 'UNS', 'ror', 'SKr', 'Pjf', 'nhF', 'vpx', 'Ybq', 'oKL', 'DnK', 'gRN', 'vTX', 'wGw', 'KZS', 'pHv', 'RQU', 'EOE', 'mqN', 'zcH', 'Yte', 'WLs', 'eeb', 'aHu', 'sNv', 'Lie', 'Bsv', 'fME', 'QXf', 'bgt', 'oZY', 'CMb', 'YJu', 'lKX', 'SFG', 'WOI', 'vQO', 'Jvr', 'CdS', 'qeQ', 'hdO', 'BiH', 'jHa', 'ysu', 'iWf', 'kmM', 'vKY', 'RiV', 'MHE', 'uwq', 'iNz', 'Gta', 'qNE', 'DvT', 'pVu', 'ptM', 'vZD', 'hDD', 'Vsd', 'Lly', 'vHp', 'CWL', 'lPy', 'cht', 'Dft', 'tCX', 'YJa', 'ghX', 'JCI', 'ISm', 'IMm', 'eHU', 'afV', 'wIm', 'HWt', 'bnp', 'tei', 'Krx', 'BEo', 'upR', 'MoI', 'cDj', 'rTA', 'rmy', 'FMp', 'kcf', 'dwt', 'Zht', 'wkH', 'gce', 'Fbo', 'ehO', 'bFX', 'wrA', 'FYK', 'fdf', 'mqq', 'VfJ', 'WAz', 'MPJ', 'ljA', 'rlj', 'FhO', 'dsB', 'Jpf', 'TZa', 'pik', 'Qgp', 'oQz', 'eqn', 'cFS', 'xsP', 'UVV', 'GNs', 'VBd', 'LcB', 'acf', 'JLo', 'LSm', 'jWe', 'fMy', 'BZZ', 'YBQ', 'Wnf', 'pdj', 'OzS', 'UXN', 'YDA', 'twp', 'ERz', 'GCa', 'QpM', 'LVR', 'aLF', 'FHd', 'QmU', 'YBr', 'qdc', 'xlr', 'Qxk', 'PNY', 'yPd', 'ScM', 'iiX', 'KXf', 'fFs', 'Fcc', 'vjG', 'fWF', 'gjD', 'fxd', 'vJu', 'MlC', 'Lys', 'jPG', 'JYh', 'tIC', 'HcQ', 'KSv', 'nSp', 'qpI', 'xeT', 'MZX', 'Aje', 'mPR', 'nvH', 'kUE', 'gem', 'gdk', 'UmF', 'YYg', 'okX', 'Hse', 'jvG', 'sJq', 'Ync', 'ieW', 'vvs', 'oDE', 'Rkz', 'RGS', 'xeS', 'FxC', 'gUQ', 'gzJ', 'SnY', 'aTu', 'MfF', 'stC', 'QRR', 'nVY', 'xmn', 'VZY', 'hMQ', 'ZAv', 'Kma', 'PCR', 'vgE', 'RQf', 'zDa', 'Yvi', 'ume', 'zoy', 'iGl', 'CVM', 'dcF', 'Zgi', 'wlv', 'fqO', 'JFJ', 'upI', 'tEW', 'ggk', 'FrE', 'mSS', 'mls', 'FzJ', 'boB', 'nDq', 'jxx', 'caO', 'Yef', 'YdM', 'XGL', 'kYm', 'eVw', 'ovE', 'MxS', 'XnA', 'riz', 'utS', 'abq', 'GTv', 'nVt', 'bjv', 'Ysb', 'DZw', 'Doc', 'Vxj', 'VOL', 'KOO', 'kFW', 'fvQ', 'UCl', 'xij', 'mLS', 'dVv', 'ONk', 'LCS', 'LMw', 'Jnx', 'wPk', 'oWw', 'QrB', 'gFz', 'Rbd', 'caq', 'HCN', 'xZS', 'QxT', 'GCX', 'pKI', 'ivQ', 'TjR', 'sbL', 'bdy', 'xVU', 'ycC', 'tNY', 'nqm', 'lDo', 'erm', 'EAI', 'NLt', 'TIW', 'DsF', 'nEK', 'zCg', 'uin', 'AWW', 'kth', 'IGY', 'uvD', 'Uui', 'JBE', 'lDw', 'Xhu', 'xlg', 'mUu', 'Vvp', 'TkO', 'BnU', 'DcI', 'tJe', 'JFm', 'RMR', 'rJf', 'DkO', 'UqJ', 'cfr', 'qoi', 'KLW', 'bYA', 'tcS', 'FMA', 'bQY', 'RBM', 'jTg', 'ilj', 'rCW', 'aUb', 'vSU', 'DGu', 'iog', 'aXQ', 'KMw', 'IsV', 'NJF', 'eId', 'ief', 'fYt', 'gGt', 'ksv', 'ptw', 'RwV', 'DWU']\n"
     ]
    }
   ],
   "source": [
    "import string\n",
    "import random\n",
    "\n",
    "class TestDataGenerator():\n",
    "    \n",
    "    def __init__(self, num_samples=1000):\n",
    "        '''\n",
    "        Parameters\n",
    "        ----------\n",
    "        num_samples : int\n",
    "            Number of strings to generate\n",
    "        '''\n",
    "        self.num_samples = num_samples\n",
    "\n",
    "    #generates random strings of fixed length, can be uppercase or lowercase\n",
    "    def gen_rand(self, strlen):\n",
    "        result = []\n",
    "        for _ in range(self.num_samples):\n",
    "            result.append(''.join(random.choices(string.ascii_letters, k=strlen)))\n",
    "        return result\n",
    "    \n",
    "    def gen_sorted(self):\n",
    "        pass\n",
    "    \n",
    "    def gen_rev_sorted(self):\n",
    "        pass\n",
    "    \n",
    "    def gen_high_dup(self):\n",
    "        pass\n",
    "    \n",
    "    def gen_rand_len(self):\n",
    "        pass\n",
    "    \n",
    "    def gen_increasing_len(self):\n",
    "        pass\n",
    "    \n",
    "    def gen_huge_len(self):\n",
    "        pass\n",
    "    \n",
    "test_code = TestDataGenerator()\n",
    "print(test_code.gen_rand(3))"
   ]
  },
  {
   "cell_type": "markdown",
   "metadata": {},
   "source": [
    "Use the cell below to implement the requested **experimental framework** (be mindful of code readability and reusability)."
   ]
  },
  {
   "cell_type": "code",
   "execution_count": 24,
   "metadata": {},
   "outputs": [],
   "source": [
    "import timeit, random, string\n",
    "import matplotlib.pyplot as plt\n",
    "\n",
    "class ExperimentalFramework():\n",
    "    '''\n",
    "    A class to represent an experimental framework.\n",
    "\n",
    "    Attributes\n",
    "    ----------\n",
    "    results : dict\n",
    "        A dictionary to store timing results. Each key could be the data size or a label,\n",
    "        and each value is the timing measurement.\n",
    "\n",
    "    Methods\n",
    "    -------\n",
    "    run_experiment(data_structure, data)\n",
    "        Measures insertion and/or search time on a given data structure with given data.\n",
    "    plot_results()\n",
    "        Visualizes the results with matplotlib.\n",
    "    '''\n",
    "            \n",
    "    def __init__(self):\n",
    "        # You can store your collected timing results here.\n",
    "        self.results = {}\n",
    "\n",
    "    def run_experiment(self, data_structure, data, label=\"Experiment1\"):\n",
    "       pass\n",
    "\n",
    "    def plot_results(self):\n",
    "        pass\n",
    "    "
   ]
  },
  {
   "cell_type": "markdown",
   "metadata": {},
   "source": [
    "Use the cell below to illustrate the python code you used to **fully evaluate** your three chosen search data structures and algortihms. The code below should illustrate, for example, how you made used of the **TestDataGenerator** class to generate test data of various size and properties; how you instatiated the **ExperimentalFramework** class to  evaluate each data structure using such data, collect information about their execution time, plot results, etc. Any results you illustrate in the companion PDF report should have been generated using the code below."
   ]
  },
  {
   "cell_type": "code",
   "execution_count": 25,
   "metadata": {},
   "outputs": [],
   "source": [
    "# ADD YOUR TEST CODE HERE \n",
    "\n",
    "\n",
    "\n"
   ]
  }
 ],
 "metadata": {
  "kernelspec": {
   "display_name": "Python 3",
   "language": "python",
   "name": "python3"
  },
  "language_info": {
   "codemirror_mode": {
    "name": "ipython",
    "version": 3
   },
   "file_extension": ".py",
   "mimetype": "text/x-python",
   "name": "python",
   "nbconvert_exporter": "python",
   "pygments_lexer": "ipython3",
   "version": "3.13.0"
  }
 },
 "nbformat": 4,
 "nbformat_minor": 4
}
